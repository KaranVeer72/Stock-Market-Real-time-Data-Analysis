{
 "cells": [
  {
   "cell_type": "code",
   "execution_count": 17,
   "id": "c2e3b731-5420-4a2e-8d2b-8a9a9d982145",
   "metadata": {},
   "outputs": [
    {
     "name": "stdout",
     "output_type": "stream",
     "text": [
      "Note: you may need to restart the kernel to use updated packages.Requirement already satisfied: pyathena in c:\\users\\karanveer\\appdata\\local\\programs\\python\\python313\\lib\\site-packages (3.12.2)\n",
      "Requirement already satisfied: boto3>=1.26.4 in c:\\users\\karanveer\\appdata\\local\\programs\\python\\python313\\lib\\site-packages (from pyathena) (1.37.35)\n",
      "Requirement already satisfied: botocore>=1.29.4 in c:\\users\\karanveer\\appdata\\local\\programs\\python\\python313\\lib\\site-packages (from pyathena) (1.37.35)\n",
      "Requirement already satisfied: fsspec in c:\\users\\karanveer\\appdata\\local\\programs\\python\\python313\\lib\\site-packages (from pyathena) (2025.3.2)\n",
      "Requirement already satisfied: python-dateutil in c:\\users\\karanveer\\appdata\\local\\programs\\python\\python313\\lib\\site-packages (from pyathena) (2.9.0.post0)\n",
      "Requirement already satisfied: tenacity>=4.1.0 in c:\\users\\karanveer\\appdata\\local\\programs\\python\\python313\\lib\\site-packages (from pyathena) (9.1.2)\n",
      "Requirement already satisfied: jmespath<2.0.0,>=0.7.1 in c:\\users\\karanveer\\appdata\\local\\programs\\python\\python313\\lib\\site-packages (from boto3>=1.26.4->pyathena) (1.0.1)\n",
      "Requirement already satisfied: s3transfer<0.12.0,>=0.11.0 in c:\\users\\karanveer\\appdata\\local\\programs\\python\\python313\\lib\\site-packages (from boto3>=1.26.4->pyathena) (0.11.4)\n",
      "Requirement already satisfied: urllib3!=2.2.0,<3,>=1.25.4 in c:\\users\\karanveer\\appdata\\local\\programs\\python\\python313\\lib\\site-packages (from botocore>=1.29.4->pyathena) (2.2.3)\n",
      "Requirement already satisfied: six>=1.5 in c:\\users\\karanveer\\appdata\\local\\programs\\python\\python313\\lib\\site-packages (from python-dateutil->pyathena) (1.16.0)\n",
      "\n"
     ]
    },
    {
     "name": "stderr",
     "output_type": "stream",
     "text": [
      "\n",
      "[notice] A new release of pip is available: 24.3.1 -> 25.0.1\n",
      "[notice] To update, run: python.exe -m pip install --upgrade pip\n"
     ]
    }
   ],
   "source": [
    "pip install pyathena"
   ]
  },
  {
   "cell_type": "code",
   "execution_count": 3,
   "id": "32c70a1c-6468-4882-8128-e4d96f693026",
   "metadata": {},
   "outputs": [
    {
     "name": "stdout",
     "output_type": "stream",
     "text": [
      "Requirement already satisfied: boto3 in c:\\users\\karanveer\\appdata\\local\\programs\\python\\python313\\lib\\site-packages (1.37.35)\n",
      "Requirement already satisfied: pandas in c:\\users\\karanveer\\appdata\\local\\programs\\python\\python313\\lib\\site-packages (2.2.3)\n",
      "Requirement already satisfied: matplotlib in c:\\users\\karanveer\\appdata\\local\\programs\\python\\python313\\lib\\site-packages (3.9.3)\n",
      "Collecting seaborn\n",
      "  Downloading seaborn-0.13.2-py3-none-any.whl.metadata (5.4 kB)\n",
      "Requirement already satisfied: botocore<1.38.0,>=1.37.35 in c:\\users\\karanveer\\appdata\\local\\programs\\python\\python313\\lib\\site-packages (from boto3) (1.37.35)\n",
      "Requirement already satisfied: jmespath<2.0.0,>=0.7.1 in c:\\users\\karanveer\\appdata\\local\\programs\\python\\python313\\lib\\site-packages (from boto3) (1.0.1)\n",
      "Requirement already satisfied: s3transfer<0.12.0,>=0.11.0 in c:\\users\\karanveer\\appdata\\local\\programs\\python\\python313\\lib\\site-packages (from boto3) (0.11.4)\n",
      "Requirement already satisfied: numpy>=1.26.0 in c:\\users\\karanveer\\appdata\\local\\programs\\python\\python313\\lib\\site-packages (from pandas) (2.1.3)\n",
      "Requirement already satisfied: python-dateutil>=2.8.2 in c:\\users\\karanveer\\appdata\\local\\programs\\python\\python313\\lib\\site-packages (from pandas) (2.9.0.post0)\n",
      "Requirement already satisfied: pytz>=2020.1 in c:\\users\\karanveer\\appdata\\local\\programs\\python\\python313\\lib\\site-packages (from pandas) (2024.2)\n",
      "Requirement already satisfied: tzdata>=2022.7 in c:\\users\\karanveer\\appdata\\local\\programs\\python\\python313\\lib\\site-packages (from pandas) (2024.2)\n",
      "Requirement already satisfied: contourpy>=1.0.1 in c:\\users\\karanveer\\appdata\\local\\programs\\python\\python313\\lib\\site-packages (from matplotlib) (1.3.1)\n",
      "Requirement already satisfied: cycler>=0.10 in c:\\users\\karanveer\\appdata\\local\\programs\\python\\python313\\lib\\site-packages (from matplotlib) (0.12.1)\n",
      "Requirement already satisfied: fonttools>=4.22.0 in c:\\users\\karanveer\\appdata\\local\\programs\\python\\python313\\lib\\site-packages (from matplotlib) (4.55.0)\n",
      "Requirement already satisfied: kiwisolver>=1.3.1 in c:\\users\\karanveer\\appdata\\local\\programs\\python\\python313\\lib\\site-packages (from matplotlib) (1.4.7)\n",
      "Requirement already satisfied: packaging>=20.0 in c:\\users\\karanveer\\appdata\\local\\programs\\python\\python313\\lib\\site-packages (from matplotlib) (24.2)\n",
      "Requirement already satisfied: pillow>=8 in c:\\users\\karanveer\\appdata\\local\\programs\\python\\python313\\lib\\site-packages (from matplotlib) (11.0.0)\n",
      "Requirement already satisfied: pyparsing>=2.3.1 in c:\\users\\karanveer\\appdata\\local\\programs\\python\\python313\\lib\\site-packages (from matplotlib) (3.2.0)\n",
      "Requirement already satisfied: urllib3!=2.2.0,<3,>=1.25.4 in c:\\users\\karanveer\\appdata\\local\\programs\\python\\python313\\lib\\site-packages (from botocore<1.38.0,>=1.37.35->boto3) (2.2.3)\n",
      "Requirement already satisfied: six>=1.5 in c:\\users\\karanveer\\appdata\\local\\programs\\python\\python313\\lib\\site-packages (from python-dateutil>=2.8.2->pandas) (1.16.0)\n",
      "Downloading seaborn-0.13.2-py3-none-any.whl (294 kB)\n",
      "Installing collected packages: seaborn\n",
      "Successfully installed seaborn-0.13.2\n",
      "Note: you may need to restart the kernel to use updated packages.\n"
     ]
    },
    {
     "name": "stderr",
     "output_type": "stream",
     "text": [
      "\n",
      "[notice] A new release of pip is available: 24.3.1 -> 25.0.1\n",
      "[notice] To update, run: python.exe -m pip install --upgrade pip\n"
     ]
    }
   ],
   "source": [
    "pip install boto3 pandas matplotlib seaborn"
   ]
  },
  {
   "cell_type": "code",
   "execution_count": 4,
   "id": "49501d85-a81a-40cf-8e44-38f78fc831ee",
   "metadata": {},
   "outputs": [],
   "source": [
    "import boto3\n",
    "import pandas as pd\n",
    "import time\n",
    "import matplotlib.pyplot as plt\n",
    "import seaborn as sns"
   ]
  },
  {
   "cell_type": "markdown",
   "id": "17fae1a3-a1b5-4d3d-87f3-2e2e21056333",
   "metadata": {},
   "source": [
    "# Athena + S3 Configuration"
   ]
  },
  {
   "cell_type": "code",
   "execution_count": 5,
   "id": "00983b81-e792-4053-a78d-95820198a1c8",
   "metadata": {},
   "outputs": [],
   "source": [
    "ATHENA_DATABASE = 'kafka-stock-database'\n",
    "ATHENA_OUTPUT = 's3://stock-athena-query-bucket/'\n",
    "REGION_NAME = 'ap-south-1'"
   ]
  },
  {
   "cell_type": "markdown",
   "id": "21903246-24be-40e5-8e5b-f2c3e1e99b8a",
   "metadata": {},
   "source": [
    "# Initialize Athena client"
   ]
  },
  {
   "cell_type": "code",
   "execution_count": 6,
   "id": "90b0ff7d-1a18-44a9-8520-e1960e3e420f",
   "metadata": {},
   "outputs": [],
   "source": [
    "client = boto3.client('athena', region_name=REGION_NAME)"
   ]
  },
  {
   "cell_type": "markdown",
   "id": "261f5d5b-e0fc-4322-b765-06b72fb13dc2",
   "metadata": {},
   "source": [
    "# SQL QUERY"
   ]
  },
  {
   "cell_type": "code",
   "execution_count": 13,
   "id": "dfe69b7c-e3bf-48b8-8fca-2b136e66fc70",
   "metadata": {},
   "outputs": [],
   "source": [
    "query = '''\n",
    "SELECT index, COUNT(*) AS count\n",
    "FROM kafka_stock_project_karan\n",
    "GROUP BY index\n",
    "ORDER BY count DESC\n",
    "LIMIT 10;\n",
    "'''"
   ]
  },
  {
   "cell_type": "code",
   "execution_count": 16,
   "id": "6b8e1c5a-94d4-4ab3-8de5-801a54cf3504",
   "metadata": {},
   "outputs": [
    {
     "name": "stdout",
     "output_type": "stream",
     "text": [
      "       index  count\n",
      "0       N225     45\n",
      "1        NYA     41\n",
      "2     GSPTSE     34\n",
      "3       IXIC     30\n",
      "4      GDAXI     28\n",
      "5       TWII     20\n",
      "6        HSI     20\n",
      "7  399001.SZ     15\n",
      "8       SSMI     15\n",
      "9       N100     13\n"
     ]
    },
    {
     "data": {
      "image/png": "[encoded data removed]",
      "text/plain": [
       "<Figure size 1000x600 with 1 Axes>"
      ]
     },
     "metadata": {},
     "output_type": "display_data"
    }
   ],
   "source": [
    "# Function to run Athena query and wait for result\n",
    "def run_athena_query(query, database, output):\n",
    "    response = client.start_query_execution(\n",
    "        QueryString=query,\n",
    "        QueryExecutionContext={'Database': database},\n",
    "        ResultConfiguration={'OutputLocation': output}\n",
    "    )\n",
    "\n",
    "    query_execution_id = response['QueryExecutionId']\n",
    "\n",
    "    # Wait for query to complete\n",
    "    while True:\n",
    "        status = client.get_query_execution(QueryExecutionId=query_execution_id)\n",
    "        state = status['QueryExecution']['Status']['State']\n",
    "        if state in ['SUCCEEDED', 'FAILED', 'CANCELLED']:\n",
    "            break\n",
    "        time.sleep(2)\n",
    "\n",
    "    if state != 'SUCCEEDED':\n",
    "        reason = status['QueryExecution']['Status'].get('StateChangeReason', 'No reason provided')\n",
    "        raise Exception(f'Athena query failed with status: {state}\\nReason: {reason}')\n",
    "\n",
    "    return query_execution_id\n",
    "\n",
    "# Function to download results into pandas DataFrame\n",
    "def get_query_results(query_execution_id):\n",
    "    result_file = f\"{ATHENA_OUTPUT}{query_execution_id}.csv\"\n",
    "    df = pd.read_csv(result_file)\n",
    "    return df\n",
    "\n",
    "# Run query and get data\n",
    "query_execution_id = run_athena_query(query, ATHENA_DATABASE, ATHENA_OUTPUT)\n",
    "# Optional: wait a few seconds before trying to read CSV\n",
    "time.sleep(5)\n",
    "results_csv = f\"{ATHENA_OUTPUT}{query_execution_id}.csv\"\n",
    "\n",
    "# Use pandas to load from S3 (using awswrangler or s3fs if needed)\n",
    "import s3fs\n",
    "fs = s3fs.S3FileSystem()\n",
    "with fs.open(results_csv, 'rb') as f:\n",
    "    df = pd.read_csv(f)\n",
    "\n",
    "# Show the dataframe\n",
    "print(df)\n",
    "\n",
    "# Plotting the results\n",
    "plt.figure(figsize=(10,6))\n",
    "sns.barplot(x='index', y='count', data=df)\n",
    "plt.xticks(rotation=45)\n",
    "plt.title('Top 10 Occurrences')\n",
    "plt.tight_layout()\n",
    "plt.show()"
   ]
  },
  {
   "cell_type": "code",
   "execution_count": 20,
   "id": "d9ac6b5e-fd01-4c44-b283-373c0eae5f2f",
   "metadata": {},
   "outputs": [],
   "source": [
    "# from pyathena import connect\n",
    "# import pandas as pd\n",
    "# import matplotlib.pyplot as plt\n",
    "\n",
    "# # Athena + S3 connection\n",
    "# s3_output = \"s3://stock-athena-query-bucket/\"\n",
    "# conn = connect(s3_staging_dir=s3_output, region_name='ap-south-1')\n",
    "\n",
    "# # Example query\n",
    "# query = \"\"\"\n",
    "# SELECT index, volume, date\n",
    "# FROM kafka_stock_project_karan\n",
    "# WHERE index = 'N225'\n",
    "# ORDER BY date DESC\n",
    "# LIMIT 100\n",
    "# \"\"\"\n",
    "\n",
    "# df = pd.read_sql(query, conn)\n",
    "# df['date'] = pd.to_datetime(df['date'])\n",
    "\n",
    "# # Plotting\n",
    "# plt.figure(figsize=(12, 6))\n",
    "# plt.plot(df['date'], df['volume'], marker='o')\n",
    "# plt.title(\"N225 Stock Volume Over Time\")\n",
    "# plt.xlabel(\"Date\")\n",
    "# plt.ylabel(\"Volume\")\n",
    "# plt.grid(True)\n",
    "# plt.xticks(rotation=45)\n",
    "# plt.tight_layout()\n",
    "# plt.show()"
   ]
  },
  {
   "cell_type": "code",
   "execution_count": null,
   "id": "22492e0c-d20c-4d32-bdd1-61776f5f3a1f",
   "metadata": {},
   "outputs": [],
   "source": []
  }
 ],
 "metadata": {
  "kernelspec": {
   "display_name": "Python 3 (ipykernel)",
   "language": "python",
   "name": "python3"
  },
  "language_info": {
   "codemirror_mode": {
    "name": "ipython",
    "version": 3
   },
   "file_extension": ".py",
   "mimetype": "text/x-python",
   "name": "python",
   "nbconvert_exporter": "python",
   "pygments_lexer": "ipython3",
   "version": "3.13.0"
  }
 },
 "nbformat": 4,
 "nbformat_minor": 5
}
